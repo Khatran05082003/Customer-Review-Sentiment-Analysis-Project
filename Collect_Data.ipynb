{
  "cells": [
    {
      "cell_type": "markdown",
      "source": [
        "| Họ tên             | MSSV     | Tỉ lệ đóng góp | Ghi chú     |\n",
        "|--------------------|----------|----------------|-------------|\n",
        "| Trần Tuấn Kha      | 21280092 |     35%           | Nhóm trưởng |\n",
        "| Nguyễn Hoàng Thông | 21280075 |     35%           |             |\n",
        "| Phạm Trường        | 21280116 |     30%           |             |"
      ],
      "metadata": {
        "id": "FTYoREzQ8oBd"
      },
      "id": "FTYoREzQ8oBd"
    },
    {
      "cell_type": "markdown",
      "source": [
        "Import libraries"
      ],
      "metadata": {
        "id": "3N9jwqG5xWqd"
      },
      "id": "3N9jwqG5xWqd"
    },
    {
      "cell_type": "code",
      "execution_count": null,
      "id": "17595181",
      "metadata": {
        "id": "17595181"
      },
      "outputs": [],
      "source": [
        "import pandas as pd\n",
        "import numpy as np\n",
        "from bs4 import BeautifulSoup\n",
        "import requests"
      ]
    },
    {
      "cell_type": "markdown",
      "source": [
        "Create a comprehensive dataset by scraping data items from the website: https://www.trustpilot.com/review/www.facebook.com?\n",
        "\n",
        "Use the requests and BeautifulSoup module to scrape the reviews of Facebook.\n",
        "\n",
        "Create an empty list to store the reviews, rating stars, date and links of reviews\n",
        "\n",
        "Find all the *a* elements with the *href* attribute in each div element, get its *href* value using get mothod and append it to the *links* list."
      ],
      "metadata": {
        "id": "6xXdNOCYxY5j"
      },
      "id": "6xXdNOCYxY5j"
    },
    {
      "cell_type": "code",
      "execution_count": null,
      "id": "113af7ed",
      "metadata": {
        "id": "113af7ed"
      },
      "outputs": [],
      "source": [
        "#create an empty list to collect all reviews\n",
        "reviews  = []\n",
        "\n",
        "#create an empty list to collect rating stars\n",
        "stars = []\n",
        "\n",
        "#create an empty list to collect date\n",
        "date = []\n",
        "\n",
        "##create an empty list to collect all links of reviews\n",
        "links=[]"
      ]
    },
    {
      "cell_type": "markdown",
      "source": [
        "Gather relevant information for each data item.\n",
        "\n"
      ],
      "metadata": {
        "id": "mlTvm5rZxehy"
      },
      "id": "mlTvm5rZxehy"
    },
    {
      "cell_type": "code",
      "execution_count": null,
      "id": "cb991890",
      "metadata": {
        "id": "cb991890"
      },
      "outputs": [],
      "source": [
        "for i in range(1,101):\n",
        "    page = requests.get(f\"https://www.trustpilot.com/review/www.facebook.com?page={i}\")\n",
        "\n",
        "    soup = BeautifulSoup(page.content, \"html5\")\n",
        "    for k in soup.find_all('div',class_='styles_reviewContent__0Q2Tg'):\n",
        "        links.append(k.find('a').get('href'))"
      ]
    },
    {
      "cell_type": "code",
      "execution_count": null,
      "id": "c6ead8e1",
      "metadata": {
        "id": "c6ead8e1"
      },
      "outputs": [],
      "source": [
        "for link in links:\n",
        "    page = requests.get('https://www.trustpilot.com' + link)\n",
        "    soup = BeautifulSoup(page.content, \"html5\")\n",
        "\n",
        "    review_elements = soup.find_all(\"p\", class_=\"typography_body-l__KUYFJ typography_appearance-default__AAY17 typography_color-black__5LYEn\")\n",
        "    if review_elements:\n",
        "        for item in review_elements:\n",
        "            reviews.append(item.text)\n",
        "    else:\n",
        "        reviews.append(np.nan)\n",
        "\n",
        "    for item in soup.find_all(\"time\"):\n",
        "        date.append(item.get('datetime'))\n",
        "\n",
        "    for item in soup.find_all('div', class_='styles_reviewHeader__iU9Px'):\n",
        "        stars.append(item.get('data-service-review-rating'))"
      ]
    },
    {
      "cell_type": "markdown",
      "source": [
        "Create a dataframe from the lists of information extracted from the web links.\n",
        "\n",
        "The dataframe has three columns *reviews*, *date* and *star* corresponding to the lists above."
      ],
      "metadata": {
        "id": "6N7HAvpwxtU5"
      },
      "id": "6N7HAvpwxtU5"
    },
    {
      "cell_type": "code",
      "execution_count": null,
      "id": "839936d8",
      "metadata": {
        "id": "839936d8"
      },
      "outputs": [],
      "source": [
        "df = pd.DataFrame({'reviews': reviews, 'date': date, 'stars': stars})"
      ]
    },
    {
      "cell_type": "markdown",
      "source": [
        "Save the dataframe to a file called *reviews.csv*"
      ],
      "metadata": {
        "id": "vr0LfcqCxu2L"
      },
      "id": "vr0LfcqCxu2L"
    },
    {
      "cell_type": "code",
      "execution_count": null,
      "id": "69661472",
      "metadata": {
        "id": "69661472"
      },
      "outputs": [],
      "source": [
        "df.to_csv(\"C:/Users/ACER/Downloads/reviews.csv\", encoding='utf-8')"
      ]
    }
  ],
  "metadata": {
    "kernelspec": {
      "display_name": "Python 3 (ipykernel)",
      "language": "python",
      "name": "python3"
    },
    "language_info": {
      "codemirror_mode": {
        "name": "ipython",
        "version": 3
      },
      "file_extension": ".py",
      "mimetype": "text/x-python",
      "name": "python",
      "nbconvert_exporter": "python",
      "pygments_lexer": "ipython3",
      "version": "3.9.12"
    },
    "colab": {
      "provenance": []
    }
  },
  "nbformat": 4,
  "nbformat_minor": 5
}